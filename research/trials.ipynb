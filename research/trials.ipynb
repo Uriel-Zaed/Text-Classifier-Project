{
 "cells": [
  {
   "cell_type": "code",
   "id": "initial_id",
   "metadata": {
    "collapsed": true,
    "ExecuteTime": {
     "end_time": "2025-01-01T18:03:45.404015Z",
     "start_time": "2025-01-01T18:03:43.453611Z"
    }
   },
   "source": [
    "import os\n",
    "import torch\n",
    "from datasets import load_dataset\n",
    "from transformers import BertTokenizer, BertForSequenceClassification, Trainer, TrainingArguments, pipeline\n",
    "from sklearn.metrics import accuracy_score, precision_recall_fscore_support\n"
   ],
   "outputs": [
    {
     "name": "stderr",
     "output_type": "stream",
     "text": [
      "/opt/anaconda3/envs/textC/lib/python3.8/site-packages/tqdm/auto.py:21: TqdmWarning: IProgress not found. Please update jupyter and ipywidgets. See https://ipywidgets.readthedocs.io/en/stable/user_install.html\n",
      "  from .autonotebook import tqdm as notebook_tqdm\n"
     ]
    }
   ],
   "execution_count": 1
  },
  {
   "metadata": {
    "ExecuteTime": {
     "end_time": "2025-01-01T17:55:28.438907Z",
     "start_time": "2025-01-01T17:55:28.437244Z"
    }
   },
   "cell_type": "code",
   "source": [
    "# Create directories for saving data and model\n",
    "os.makedirs(\"./data\", exist_ok=True)\n",
    "os.makedirs(\"./model\", exist_ok=True)"
   ],
   "id": "716ac756be45403e",
   "outputs": [],
   "execution_count": 3
  },
  {
   "metadata": {
    "ExecuteTime": {
     "end_time": "2025-01-01T17:55:41.761888Z",
     "start_time": "2025-01-01T17:55:29.458317Z"
    }
   },
   "cell_type": "code",
   "source": [
    "# Load the IMDB dataset and save locally\n",
    "dataset = load_dataset(\"imdb\")\n",
    "dataset.save_to_disk(\"./data/imdb\")"
   ],
   "id": "cfec970c0113c15a",
   "outputs": [
    {
     "name": "stderr",
     "output_type": "stream",
     "text": [
      "Generating train split: 100%|██████████| 25000/25000 [00:00<00:00, 530449.17 examples/s]\n",
      "Generating test split: 100%|██████████| 25000/25000 [00:00<00:00, 880815.82 examples/s]\n",
      "Generating unsupervised split: 100%|██████████| 50000/50000 [00:00<00:00, 915319.25 examples/s]\n",
      "Saving the dataset (1/1 shards): 100%|██████████| 25000/25000 [00:00<00:00, 2756943.79 examples/s]\n",
      "Saving the dataset (1/1 shards): 100%|██████████| 25000/25000 [00:00<00:00, 2832305.12 examples/s]\n",
      "Saving the dataset (1/1 shards): 100%|██████████| 50000/50000 [00:00<00:00, 2594329.26 examples/s]\n"
     ]
    }
   ],
   "execution_count": 4
  },
  {
   "metadata": {
    "ExecuteTime": {
     "end_time": "2025-01-01T17:56:11.923551Z",
     "start_time": "2025-01-01T17:56:09.764268Z"
    }
   },
   "cell_type": "code",
   "source": [
    "# Load pre-trained BERT tokenizer\n",
    "tokenizer = BertTokenizer.from_pretrained('bert-base-uncased')\n",
    "\n",
    "def tokenize_data(example):\n",
    "    return tokenizer(example['text'], padding='max_length', truncation=True, max_length=512)"
   ],
   "id": "3c9189f4c9ec7d7e",
   "outputs": [],
   "execution_count": 5
  },
  {
   "metadata": {
    "ExecuteTime": {
     "end_time": "2025-01-01T17:59:12.456844Z",
     "start_time": "2025-01-01T17:56:18.944444Z"
    }
   },
   "cell_type": "code",
   "source": [
    "# Tokenize and preprocess dataset\n",
    "encoded_dataset = dataset.map(tokenize_data, batched=True)\n",
    "encoded_dataset.save_to_disk(\"./data/tokenized_imdb\")"
   ],
   "id": "d6a38eb4ecf4e9e5",
   "outputs": [
    {
     "name": "stderr",
     "output_type": "stream",
     "text": [
      "Map: 100%|██████████| 25000/25000 [00:43<00:00, 581.14 examples/s]\n",
      "Map: 100%|██████████| 25000/25000 [00:42<00:00, 592.75 examples/s]\n",
      "Map: 100%|██████████| 50000/50000 [01:26<00:00, 575.59 examples/s]\n",
      "Saving the dataset (1/1 shards): 100%|██████████| 25000/25000 [00:00<00:00, 98538.43 examples/s]\n",
      "Saving the dataset (1/1 shards): 100%|██████████| 25000/25000 [00:00<00:00, 98093.47 examples/s]\n",
      "Saving the dataset (1/1 shards): 100%|██████████| 50000/50000 [00:00<00:00, 102574.00 examples/s]\n"
     ]
    }
   ],
   "execution_count": 6
  },
  {
   "metadata": {
    "ExecuteTime": {
     "end_time": "2025-01-01T17:59:12.459545Z",
     "start_time": "2025-01-01T17:59:12.457951Z"
    }
   },
   "cell_type": "code",
   "source": [
    "# Split dataset\n",
    "train_dataset = encoded_dataset['train']\n",
    "test_dataset = encoded_dataset['test']\n"
   ],
   "id": "7eb00c2fcc41f43c",
   "outputs": [],
   "execution_count": 7
  },
  {
   "metadata": {
    "ExecuteTime": {
     "end_time": "2025-01-01T18:04:00.732654Z",
     "start_time": "2025-01-01T18:04:00.346720Z"
    }
   },
   "cell_type": "code",
   "source": [
    "# Define the model\n",
    "model = BertForSequenceClassification.from_pretrained('bert-base-uncased', num_labels=2)\n"
   ],
   "id": "109f793a73782f2c",
   "outputs": [
    {
     "name": "stderr",
     "output_type": "stream",
     "text": [
      "Some weights of BertForSequenceClassification were not initialized from the model checkpoint at bert-base-uncased and are newly initialized: ['classifier.bias', 'classifier.weight']\n",
      "You should probably TRAIN this model on a down-stream task to be able to use it for predictions and inference.\n"
     ]
    }
   ],
   "execution_count": 2
  },
  {
   "metadata": {
    "ExecuteTime": {
     "end_time": "2025-01-01T18:04:03.075510Z",
     "start_time": "2025-01-01T18:04:03.054398Z"
    }
   },
   "cell_type": "code",
   "source": [
    "# Training arguments\n",
    "training_args = TrainingArguments(\n",
    "    output_dir=\"./model/results\",\n",
    "    evaluation_strategy=\"epoch\",\n",
    "    save_strategy=\"epoch\",\n",
    "    logging_dir=\"./model/logs\",\n",
    "    logging_steps=10,\n",
    "    per_device_train_batch_size=8,\n",
    "    per_device_eval_batch_size=8,\n",
    "    num_train_epochs=3,\n",
    "    load_best_model_at_end=True\n",
    ")"
   ],
   "id": "c9b218f62a28db95",
   "outputs": [
    {
     "name": "stderr",
     "output_type": "stream",
     "text": [
      "/opt/anaconda3/envs/textC/lib/python3.8/site-packages/transformers/training_args.py:1568: FutureWarning: `evaluation_strategy` is deprecated and will be removed in version 4.46 of 🤗 Transformers. Use `eval_strategy` instead\n",
      "  warnings.warn(\n"
     ]
    }
   ],
   "execution_count": 3
  },
  {
   "metadata": {
    "ExecuteTime": {
     "end_time": "2025-01-01T18:04:07.033731Z",
     "start_time": "2025-01-01T18:04:07.029885Z"
    }
   },
   "cell_type": "code",
   "source": [
    "# Define compute metrics function\n",
    "def compute_metrics(pred):\n",
    "    logits, labels = pred\n",
    "    predictions = torch.argmax(torch.tensor(logits), dim=-1)\n",
    "    precision, recall, f1, _ = precision_recall_fscore_support(labels, predictions, average='binary')\n",
    "    acc = accuracy_score(labels, predictions)\n",
    "    return {\"accuracy\": acc, \"f1\": f1, \"precision\": precision, \"recall\": recall}\n"
   ],
   "id": "8cabb5f8da795039",
   "outputs": [],
   "execution_count": 4
  },
  {
   "metadata": {
    "ExecuteTime": {
     "end_time": "2025-01-01T18:04:10.355497Z",
     "start_time": "2025-01-01T18:04:10.196607Z"
    }
   },
   "cell_type": "code",
   "source": [
    "# Trainer\n",
    "trainer = Trainer(\n",
    "    model=model,\n",
    "    args=training_args,\n",
    "    train_dataset=train_dataset,\n",
    "    eval_dataset=test_dataset,\n",
    "    compute_metrics=compute_metrics\n",
    ")\n",
    "\n",
    "# Train and evaluate\n",
    "trainer.train()\n",
    "results = trainer.evaluate()\n",
    "print(results)\n"
   ],
   "id": "f3e9acc7de459011",
   "outputs": [
    {
     "ename": "NameError",
     "evalue": "name 'train_dataset' is not defined",
     "output_type": "error",
     "traceback": [
      "\u001B[0;31m---------------------------------------------------------------------------\u001B[0m",
      "\u001B[0;31mNameError\u001B[0m                                 Traceback (most recent call last)",
      "Cell \u001B[0;32mIn[5], line 5\u001B[0m\n\u001B[1;32m      1\u001B[0m \u001B[38;5;66;03m# Trainer\u001B[39;00m\n\u001B[1;32m      2\u001B[0m trainer \u001B[38;5;241m=\u001B[39m Trainer(\n\u001B[1;32m      3\u001B[0m     model\u001B[38;5;241m=\u001B[39mmodel,\n\u001B[1;32m      4\u001B[0m     args\u001B[38;5;241m=\u001B[39mtraining_args,\n\u001B[0;32m----> 5\u001B[0m     train_dataset\u001B[38;5;241m=\u001B[39m\u001B[43mtrain_dataset\u001B[49m,\n\u001B[1;32m      6\u001B[0m     eval_dataset\u001B[38;5;241m=\u001B[39mtest_dataset,\n\u001B[1;32m      7\u001B[0m     compute_metrics\u001B[38;5;241m=\u001B[39mcompute_metrics\n\u001B[1;32m      8\u001B[0m )\n\u001B[1;32m     10\u001B[0m \u001B[38;5;66;03m# Train and evaluate\u001B[39;00m\n\u001B[1;32m     11\u001B[0m trainer\u001B[38;5;241m.\u001B[39mtrain()\n",
      "\u001B[0;31mNameError\u001B[0m: name 'train_dataset' is not defined"
     ]
    }
   ],
   "execution_count": 5
  },
  {
   "metadata": {},
   "cell_type": "code",
   "source": [
    "# Save the trained model locally\n",
    "model.save_pretrained(\"./model/sentiment_model\")\n",
    "\n",
    "# Load model for inference\n",
    "sentiment_pipeline = pipeline(\"text-classification\", model=\"./model/sentiment_model\")\n",
    "result = sentiment_pipeline(\"I love this movie!\")\n",
    "print(result)  # [{'label': 'POSITIVE', 'score': 0.99}]\n"
   ],
   "id": "bd3a83a48c08e44e",
   "outputs": [],
   "execution_count": null
  },
  {
   "metadata": {},
   "cell_type": "code",
   "outputs": [],
   "execution_count": null,
   "source": "",
   "id": "56d3eceffb7e0fdb"
  }
 ],
 "metadata": {
  "kernelspec": {
   "display_name": "Python 3",
   "language": "python",
   "name": "python3"
  },
  "language_info": {
   "codemirror_mode": {
    "name": "ipython",
    "version": 2
   },
   "file_extension": ".py",
   "mimetype": "text/x-python",
   "name": "python",
   "nbconvert_exporter": "python",
   "pygments_lexer": "ipython2",
   "version": "2.7.6"
  }
 },
 "nbformat": 4,
 "nbformat_minor": 5
}
